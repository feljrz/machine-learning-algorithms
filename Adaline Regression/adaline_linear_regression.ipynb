{
 "cells": [
  {
   "cell_type": "code",
   "execution_count": 1,
   "metadata": {},
   "outputs": [],
   "source": [
    "import numpy as np\n",
    "from random import random\n",
    "import matplotlib.pyplot as plt\n",
    "from scipy.stats.stats import pearsonr"
   ]
  },
  {
   "cell_type": "code",
   "execution_count": 2,
   "metadata": {},
   "outputs": [
    {
     "name": "stdout",
     "output_type": "stream",
     "text": [
      "w: 2.4759792565168177 b: 1.9234197794695491\n",
      "Correlação: 1.0\n"
     ]
    },
    {
     "data": {
      "image/png": "[encoded data removed]",
      "text/plain": [
       "<Figure size 432x288 with 1 Axes>"
      ]
     },
     "metadata": {
      "needs_background": "light"
     },
     "output_type": "display_data"
    }
   ],
   "source": [
    "f = np.array([0.00, 0.5, 1.0, 1.50, 2.0, 2.5, 3.0, 3.5, 4.0, 4.5, 5.0])\n",
    "y = np.array([2.26, 3.8, 4.43, 5.91, 6.18, 7.26, 8.15, 9.14, 10.87, 11.58, 12.55])\n",
    "\n",
    "w = 0.5 - random()\n",
    "b = 0.5 - random()\n",
    "teta = 0\n",
    "alfa = 0.1\n",
    "\n",
    "cycles = 500\n",
    "n_cycles = 0\n",
    "\n",
    "error_lsm = 0\n",
    "error = np.array([])\n",
    "\n",
    "#Train\n",
    "y_li = 0\n",
    "w_new = 0\n",
    "b_new = 0\n",
    "while(n_cycles < cycles):\n",
    "    error_lsm = 0\n",
    "    for x, t in zip(f, y):\n",
    "        y_li = w * x + b\n",
    "        #função de ativação linear y = y_li\n",
    "        error_lsm += ((y_li - t)**2)\n",
    "        \n",
    "        w_new = w + alfa*(t - y_li)*x\n",
    "        b_new = b + alfa*(t - y_li)\n",
    "        \n",
    "        w = w_new\n",
    "        b = b_new\n",
    "    n_cycles +=1\n",
    "    \n",
    "X_grid = np.linspace(0, 5, 11)\n",
    "\n",
    "#Gerando valores com a ANN\n",
    "ordenada = []\n",
    "for j in X_grid:\n",
    "    ordenada.append(j*w_new + b_new)\n",
    "\n",
    "correlation = pearsonr(X_grid, ordenada)\n",
    "\n",
    "\n",
    "print(f\"w: {w} b: {b}\")\n",
    "\n",
    "print(f\"Correlação: {correlation[0]}\")\n",
    "plt.plot(f, ordenada)\n",
    "plt.show()\n",
    "        "
   ]
  },
  {
   "cell_type": "code",
   "execution_count": 3,
   "metadata": {},
   "outputs": [],
   "source": [
    "ordenada = np.array(ordenada)\n",
    "ordenada = ordenada.astype('float64')"
   ]
  },
  {
   "cell_type": "code",
   "execution_count": 4,
   "metadata": {},
   "outputs": [
    {
     "data": {
      "text/plain": [
       "2.4759792565168164"
      ]
     },
     "execution_count": 4,
     "metadata": {},
     "output_type": "execute_result"
    }
   ],
   "source": [
    "b_1 = (11*np.sum(X_grid*ordenada) - np.sum(X_grid)*np.sum(ordenada))/(11*np.sum(X_grid**2) - np.sum(X_grid)**2)\n",
    "b_1"
   ]
  },
  {
   "cell_type": "code",
   "execution_count": 5,
   "metadata": {},
   "outputs": [
    {
     "data": {
      "text/plain": [
       "1.9234197794695547"
      ]
     },
     "execution_count": 5,
     "metadata": {},
     "output_type": "execute_result"
    }
   ],
   "source": [
    "a_1 = np.mean(ordenada) - b_1*np.mean(X_grid)\n",
    "a_1"
   ]
  },
  {
   "cell_type": "code",
   "execution_count": 6,
   "metadata": {},
   "outputs": [
    {
     "data": {
      "text/plain": [
       "numpy.float64"
      ]
     },
     "execution_count": 6,
     "metadata": {},
     "output_type": "execute_result"
    }
   ],
   "source": [
    "type(w_new)"
   ]
  },
  {
   "cell_type": "code",
   "execution_count": 7,
   "metadata": {},
   "outputs": [
    {
     "data": {
      "text/plain": [
       "numpy.ndarray"
      ]
     },
     "execution_count": 7,
     "metadata": {},
     "output_type": "execute_result"
    }
   ],
   "source": [
    "type(ordenada)"
   ]
  },
  {
   "cell_type": "code",
   "execution_count": 10,
   "metadata": {},
   "outputs": [
    {
     "data": {
      "text/plain": [
       "2.4759792565168177"
      ]
     },
     "execution_count": 10,
     "metadata": {},
     "output_type": "execute_result"
    }
   ],
   "source": [
    "w_new"
   ]
  }
 ],
 "metadata": {
  "kernelspec": {
   "display_name": "Python 3.7.4 64-bit ('base': conda)",
   "language": "python",
   "name": "python37464bitbasecondaed6d82471253478f90c809319e8d2c1d"
  },
  "language_info": {
   "codemirror_mode": {
    "name": "ipython",
    "version": 3
   },
   "file_extension": ".py",
   "mimetype": "text/x-python",
   "name": "python",
   "nbconvert_exporter": "python",
   "pygments_lexer": "ipython3",
   "version": "3.8.3"
  }
 },
 "nbformat": 4,
 "nbformat_minor": 4
}
