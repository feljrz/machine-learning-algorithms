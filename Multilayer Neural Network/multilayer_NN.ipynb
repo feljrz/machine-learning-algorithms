{
 "cells": [
  {
   "cell_type": "code",
   "execution_count": 1,
   "metadata": {},
   "outputs": [],
   "source": [
    "import pandas as pd\n",
    "import numpy as np\n",
    "import matplotlib.pyplot as plt\n",
    "import random\n",
    "import math"
   ]
  },
  {
   "cell_type": "markdown",
   "metadata": {},
   "source": [
    "<h1> Rede Neural Multicamada </h1>\n",
    "<div style=\"text-align:center\"><img src=\"nn_arch.png\" width=\"500\" height=\"500\"></div>\n",
    "\n",
    "Para implementar esta rede precisaremos:<br> \n",
    "    <ol>\n",
    "        <li>Estimar a saída com Feed Forward</li>\n",
    "        <li>Calcular os erros e realizar a retropropagação</li>\n",
    "        <li>Treino</li>\n",
    "        <li>Teste</li>\n",
    "    </ol>\n",
    "    \n",
    "    \n",
    "<h2>Feed Forward</h2>\n",
    "Neste modelo utilizaremos como função de ativação a <b>Sigmoid bipolar</b>: $ \\sigma = \\frac{2}{(1 + e^{-x})} - 1$ e erro $\\sum \\limits_{i = 0}^{n} \\frac{1}{2}{(y - \\hat{y})^{2}}$\n",
    "<div style=\"text-align:center\">\n",
    "$$Z^{1} = \\sum \\limits_{i=0}^{n} {X}_{i} W_{i}^{1} + \\beta_{1} = X \\times W^{1}$$<br>\n",
    "$$a^{1} = \\sigma{ (Z^{1})}$$<br> \n",
    "$$Z^{2} = a^{1} \\times W^{2}$$<br>\n",
    "$$\\hat{y} = \\sigma{ (Z^{2})} $$\n",
    "</div>\n",
    "    \n",
    "<h2>Retropropagation</h2>\n",
    "Fazer a retropropagação basicamente significa não parar de calcular a regra da cadeia (de trás para frente), em suma buscaremos $\\frac{\\partial E} {\\partial W} <0$ o que também será válido para $\\rm I \\!R $ superiores<br>Obs.: por fins visuais parcial (3) já estará multiplicada por (-1)<br><br>\n",
    "\n",
    "$$\\frac{\\partial E} {\\partial W^{2}} = \\frac{\\partial E} {\\partial Z^{2}} \\times \\frac{\\partial Z^{2}} {\\partial W^{2}} \\tag{1}$$<br>\n",
    "$$\\frac{\\partial E} {\\partial Z^{2}} = \\frac{\\partial E} {\\partial \\hat{y}} \\times \\frac{\\partial \\hat{y}} {\\partial Z^{2}} \\tag{2}$$<br>\n",
    "\n",
    "sendo : \n",
    "$$\\frac{\\partial E} {\\partial \\hat{y}} = -(y - \\hat{y})\\tag{3}$$\n",
    "$$\\sigma^{'} = \\sigma{(Z^{1})}(1 - \\sigma{(Z^{2})})$$\n",
    "$$\\frac{\\partial \\hat{y}} {\\partial Z^{2}} = \\sigma^{'} = \\sigma{(Z^{2})}(1 - \\sigma{(Z^{2})}\\tag{4}$$ <br>\n",
    "$$\\frac{\\partial Z^{2}} {\\partial W^{2}} = a^{1}\\tag{5}$$<br>\n",
    "\n",
    "Substituindo (3) e (4) em (2) temos:\n",
    "$$\\frac{\\partial E} {\\partial Z^{2}} = (y - \\hat{y})\\cdot \\sigma^{'}(Z^2) = \\delta^{2}\\tag{6}$$<br>\n",
    "logo: $$\\frac{\\partial E} {\\partial W^{2}} = \\mathbf{a^{1}}^\\intercal \\times \\delta^{2}$$<br>\n",
    "\n",
    "Partindo para a hidden layer<br>\n",
    "$$\\frac{\\partial E} {\\partial W^{1}} = \\frac{\\partial E} {\\partial Z^{1}} \\times \\frac{\\partial Z^{1}} {\\partial W^{1}} \\tag{7}$$<br>\n",
    "$$\\frac{\\partial E} {\\partial Z^{1}} = \\frac{\\partial E} {\\partial a^{1}} \\times \\frac{\\partial a^{1}} {\\partial Z^{1}} \\tag{8}$$<br>\n",
    "$$\\frac{\\partial E} {\\partial a^{1}} = \\frac{\\partial E} {\\partial Z^{2}} \\times \\frac{\\partial Z^{2}} {\\partial a^{1}} \\tag{9}$$<br>\n",
    "\n",
    "sendo: \n",
    "$$\\frac{\\partial Z^{2}} {\\partial a^{1}} = \\frac {\\sum \\limits_{i=0}^{n} a_{i}^{1}W_{i}^{2} + \\beta_{2}} {\\partial a^{1}} = W^{2} \\tag{10}$$<br>\n",
    "$$\\frac{\\partial a^{1}} {\\partial Z^{1}} = \\sigma^{'}(Z^1)\\tag{11}$$ <br>\n",
    "$$\\frac{\\partial Z^{1}} {\\partial W^{1}} = X \\tag{12}$$<br>\n",
    "\n",
    "Substituindo (6) e (10) em (9) temos:\n",
    "$$\\frac{\\partial E} {\\partial a^{1}} = \\mathbf{W^{2}}^\\intercal \\times \\delta^{2} \\tag{13}$$<br>\n",
    "com (13) e (11) em (8) temos: \n",
    "$$\\frac{\\partial E} {\\partial Z^{1}} = \\mathbf{W^{2}}^\\intercal \\times \\delta^{2} \\cdot \\sigma^{'}(Z^1) = \\delta^{1} \\tag{14}$$<br>\n",
    "logo (14) e (12) em (7) temos:\n",
    "logo: $$\\frac{\\partial E} {\\partial W^{1}} = \\mathbf{X}^\\intercal \\times \\delta^{1}$$<br>\n",
    "</div>\n",
    "\n",
    "<h2> Atualizando os pesos</h2>\n",
    "    $$W2 = W2 + \\frac{\\partial E} {\\partial W^{2}} \\alpha$$<br>\n",
    "    $$\\beta_{2} = \\beta_{2} \\delta^{2} \\alpha$$<br>\n",
    "    $$W1 = (W1 + \\frac{\\partial E} {\\partial W^{1}}) \\alpha$$<br>\n",
    "    $$\\beta_{1} = (\\beta_{2} \\delta^{1})\\alpha$$\n",
    "\n",
    "\n"
   ]
  },
  {
   "cell_type": "code",
   "execution_count": 8,
   "metadata": {},
   "outputs": [],
   "source": [
    "#X*W1 -> Z1 -> sigmoid(Z1)-> a1 -> a1*W2 -> Z2 -> sigmoid(Z2) -> Yhat \n",
    "class NeuralNetwork:\n",
    "    def __init__(self, input_values, output, hidden_size, alfa = 0.02, epochs = 1000):\n",
    "        self.X = input_values\n",
    "        self.output = output\n",
    "        self.hidden = hidden_size\n",
    "        self.alfa = alfa\n",
    "        self.erro = 0.001\n",
    "        self.epochs = epochs\n",
    "        self.m = self.X.shape[1]\n",
    "        \n",
    "        #Pesos hidden layer\n",
    "        self.w1 = np.random.rand(self.X.shape[1], self.hidden) - 0.5\n",
    "        self.bw1 = np.random.rand(1, self.hidden) - 0.5\n",
    "\n",
    "        self.delta_inv = np.zeros((self.hidden, 1))\n",
    "        self.delta1 = np.zeros((self.hidden, 1))\n",
    "\n",
    "        #Pesos camada de saída\n",
    "        self.w2 = np.random.rand(self.hidden, self.output.shape[1]) - 0.5\n",
    "        self.bw2 = np.random.rand(self.output.shape[1], 1) - 0.5\n",
    "    \n",
    "        self.delta2 = np.zeros((self.output.shape[1], 1))\n",
    "\n",
    "    def sigmoid_bipolar(self, z):\n",
    "        return (2/(1+np.exp(-z))) - 1\n",
    "    \n",
    "    def sigmoid_partial(self, z2):\n",
    "        return (0.5 *(1 + z2)*(1 - z2))\n",
    "    \n",
    "    def feed_forward(self, X):\n",
    "       \n",
    "        #Propagando entrada pela rede:\n",
    "        \n",
    "        self.z1 =  np.dot(X, self.w1) + self.bw1 #Xw + b\n",
    "        self.a1 =  self.sigmoid_bipolar(self.z1)  #z = f(zin)\n",
    "        \n",
    "        #Cálculo saída da rede\n",
    "        \n",
    "        self.z2 = np.dot(self.a1, self.w2) + self.bw2 #y_in = ZW + Bw \n",
    "        self.yhat = self.sigmoid_bipolar(self.z2) #yhat = f(z_in)\n",
    "        return self.yhat\n",
    "    \n",
    "    \n",
    "    def retropropagation(self):\n",
    "        \n",
    "        #Não parar de calcular a regra da cadeia\n",
    "        #Cálculo erro da camada de saída (Calculo deltinha_out)\n",
    "        \n",
    "        self.dyhat = (self.output - self.yhat) #dE/dYhat\n",
    "        self.delta2 = self.dyhat * self.sigmoid_partial(self.yhat) #dE/dZ2 = dE/dYhat * dYat/dZ2\n",
    "        \n",
    "        #Cálculo delta das hidden layers (Cálculo deltinha_in)\n",
    "        \n",
    "        self.da1 = self.delta2.dot(self.w2.T) #dE/da1 = dE/dZ2 * dZ2/da1\n",
    "        self.delta1 = self.da1 * self.sigmoid_partial(self.a1) #dE/dZ1 = dE/da1 * da1/dZ1\n",
    "        \n",
    "        #Delta dos pesos do output layer\n",
    "        \n",
    "        self.dEdW2 = self.alfa * (self.a1.T.dot(self.delta2)) #dE/dW2 = dE/dZ2 * dZ2/dW2 (a1)\n",
    "        self.dEdBw2 = np.sum(self.alfa * self.delta2, axis = 0)\n",
    "    \n",
    "        \n",
    "        #Delta pesos da hiden layer\n",
    "        \n",
    "        self.dEdW1 = self.alfa * (self.X.T.dot(self.delta1)) #dE/dW1 = dE/dZ1 * dZ1/dW1 (X)\n",
    "        self.dEdBw1 = np.sum(self.alfa * self.delta1, axis=0)\n",
    "        \n",
    "        #Pesos camada de saída\n",
    "        \n",
    "        self.w2 += self.dEdW2\n",
    "        self.bw2 += self.dEdBw2\n",
    "        \n",
    "        #Pesos hidden layer\n",
    "        \n",
    "        self.w1 += self.dEdW1\n",
    "        self.bw1 += self.dEdBw1\n",
    "        \n",
    "    def train(self):\n",
    "        epoch = 0 \n",
    "        self.lsm = []\n",
    "        erro_total = 1\n",
    "        self.acc_va = []\n",
    "        self.acc_va.append(1)\n",
    "        while(epoch < self.epochs) or (erro_total < self.erro):\n",
    "            erro_total = 0\n",
    "            yhat = self.feed_forward(self.X)\n",
    "            self.retropropagation()\n",
    "            \n",
    "            erro_total += sum(0.5*((self.output - yhat)**2)) #Cálculo erro\n",
    "            self.lsm.append(erro_total)\n",
    "                \n",
    "            epoch +=1\n",
    "        \n",
    "        tam = len(self.lsm)\n",
    "        X_grid = np.array(np.arange(0, tam))\n",
    "        plt.scatter(X_grid, self.lsm)\n",
    "        plt.show()\n",
    "        \n",
    "    def predict(self, X):\n",
    "       \n",
    "        #Propagando entrada pela rede\n",
    "            \n",
    "        z1 =  np.dot(X, self.w1) + self.bw1 #z1 = XW1 + b\n",
    "        a1 =  self.sigmoid_bipolar(z1)  #a1 = sigmoid(z1)\n",
    "        \n",
    "        #Cálculo saída da rede\n",
    "        \n",
    "        z2 = np.dot(a1, self.w2) + self.bw2 #z2 = ZW2 + Bw \n",
    "        yhat = self.sigmoid_bipolar(z2) #yhat = sigmoid(z2)\n",
    "        return yhat"
   ]
  },
  {
   "cell_type": "markdown",
   "metadata": {},
   "source": [
    "<h3> Treino da Rede</h3>"
   ]
  },
  {
   "cell_type": "code",
   "execution_count": 3,
   "metadata": {},
   "outputs": [
    {
     "data": {
      "image/png": "[encoded data removed]",
      "text/plain": [
       "<Figure size 432x288 with 1 Axes>"
      ]
     },
     "metadata": {
      "needs_background": "light"
     },
     "output_type": "display_data"
    }
   ],
   "source": [
    "X = np.array([[1, 1, 1, -1, -1, 1, -1, -1]]).reshape(4,2)\n",
    "y = np.array([[-1, 1, 1 ,-1]]).reshape(4,1)\n",
    "\n",
    "nn = NeuralNetwork(X, y, 4, 0.01, 15000)\n",
    "nn.train()"
   ]
  },
  {
   "cell_type": "markdown",
   "metadata": {},
   "source": [
    "<h3> Função de ativação</h3>"
   ]
  },
  {
   "cell_type": "code",
   "execution_count": 4,
   "metadata": {},
   "outputs": [
    {
     "data": {
      "image/png": "[encoded data removed]",
      "text/plain": [
       "<Figure size 432x288 with 1 Axes>"
      ]
     },
     "metadata": {
      "needs_background": "light"
     },
     "output_type": "display_data"
    }
   ],
   "source": [
    "x_grid = np.linspace(-10, 10, 100)\n",
    "plt.plot(x_grid, nn.sigmoid_bipolar(x_grid))\n",
    "plt.show()"
   ]
  },
  {
   "cell_type": "code",
   "execution_count": 5,
   "metadata": {},
   "outputs": [
    {
     "data": {
      "text/plain": [
       "array([[-0.95856122],\n",
       "       [ 0.95718365],\n",
       "       [ 0.96167455],\n",
       "       [-0.9601004 ]])"
      ]
     },
     "execution_count": 5,
     "metadata": {},
     "output_type": "execute_result"
    }
   ],
   "source": [
    "y_pred = nn.predict(X)\n",
    "y_pred"
   ]
  },
  {
   "cell_type": "code",
   "execution_count": 6,
   "metadata": {},
   "outputs": [
    {
     "data": {
      "text/plain": [
       "array([[-2.2392299 , -1.87239852,  1.84858483,  2.17050212],\n",
       "       [ 2.1816368 , -2.07306407, -1.91980693,  1.98592832]])"
      ]
     },
     "execution_count": 6,
     "metadata": {},
     "output_type": "execute_result"
    }
   ],
   "source": [
    "nn.w1"
   ]
  },
  {
   "cell_type": "code",
   "execution_count": 7,
   "metadata": {},
   "outputs": [
    {
     "data": {
      "text/plain": [
       "array([[3.13650695],\n",
       "       [2.89615061],\n",
       "       [2.85998344],\n",
       "       [2.9926151 ]])"
      ]
     },
     "execution_count": 7,
     "metadata": {},
     "output_type": "execute_result"
    }
   ],
   "source": [
    "nn.w2"
   ]
  },
  {
   "cell_type": "code",
   "execution_count": null,
   "metadata": {},
   "outputs": [],
   "source": []
  }
 ],
 "metadata": {
  "kernelspec": {
   "display_name": "Python 3.7.4 64-bit ('base': conda)",
   "language": "python",
   "name": "python37464bitbasecondaed6d82471253478f90c809319e8d2c1d"
  },
  "language_info": {
   "codemirror_mode": {
    "name": "ipython",
    "version": 3
   },
   "file_extension": ".py",
   "mimetype": "text/x-python",
   "name": "python",
   "nbconvert_exporter": "python",
   "pygments_lexer": "ipython3",
   "version": "3.8.3"
  }
 },
 "nbformat": 4,
 "nbformat_minor": 4
}
