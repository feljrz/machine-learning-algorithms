{
 "cells": [
  {
   "cell_type": "code",
   "execution_count": 1,
   "metadata": {},
   "outputs": [],
   "source": [
    "import pandas as pd\n",
    "import numpy as np\n",
    "import matplotlib.pyplot as plt\n",
    "import random\n",
    "import math"
   ]
  },
  {
   "cell_type": "code",
   "execution_count": 2,
   "metadata": {},
   "outputs": [],
   "source": [
    "class NeuralNetwork:\n",
    "    def __init__(self, input_values, output, hidden_size, alfa = 0.02, epochs = 1000):\n",
    "        self.X = input_values\n",
    "        self.output = output\n",
    "        self.hidden = hidden_size\n",
    "        self.alfa = alfa\n",
    "        self.erro = 0.001\n",
    "        self.epochs = epochs\n",
    "        self.m = self.X.shape[1]\n",
    "        \n",
    "        #Pesos hidden layer\n",
    "        self.w1 = np.random.rand(self.X.shape[1], self.hidden) - 0.5\n",
    "        self.bw1 = np.random.rand(1, self.hidden) - 0.5\n",
    "\n",
    "        self.delta_inv = np.zeros((self.hidden, 1))\n",
    "        self.dZ1 = np.zeros((self.hidden, 1))\n",
    "\n",
    "        #Pesos camada de saída\n",
    "        self.w2 = np.random.rand(self.hidden, self.output.shape[1]) - 0.5\n",
    "        self.bw2 = np.random.rand(self.output.shape[1], 1) - 0.5\n",
    "    \n",
    "        self.dZ2 = np.zeros((self.output.shape[1], 1))\n",
    "\n",
    "    def sigmoid_bipolar(self, z):\n",
    "        return (2/(1+np.exp(-z))) - 1\n",
    "    \n",
    "    def sigmoid_partial(self, z2):\n",
    "        return (0.5 *(1 + z2)*(1 - z2))\n",
    "    \n",
    "    def feed_foward(self, X):\n",
    "       \n",
    "        #Propagando entrada pela rede:\n",
    "        \n",
    "        self.z1 =  np.dot(X, self.w1) + self.bw1 #Xw + b\n",
    "        self.a1 =  self.sigmoid_bipolar(self.z1)  #z = f(zin)\n",
    "        \n",
    "        #Cálculo saída da rede\n",
    "        \n",
    "        self.z2 = np.dot(self.a1, self.w2) + self.bw2 #y_in = ZW + Bw \n",
    "        self.yhat = self.sigmoid_bipolar(self.z2) #yhat = f(z_in)\n",
    "        return self.yhat\n",
    "    \n",
    "    \n",
    "    def retropropagation(self):\n",
    "        \n",
    "        #Não parar de calcular a regra da cadeia\n",
    "        #Cálculo erro da camada de saída (Calculo deltinha_out)\n",
    "        \n",
    "        self.dyhat = (self.output - self.yhat) #dE/dYhat\n",
    "        self.dZ2 = self.dyhat * self.sigmoid_partial(self.yhat) #dE/dZ2 = dE/dYhat * dYat/dZ2\n",
    "        \n",
    "        #Cálculo delta das hidden layers (Cálculo deltinha_in)\n",
    "        \n",
    "        self.da1 = self.dZ2.dot(self.w2.T) #dE/da1 = dE/dZ2 * dZ2/da1\n",
    "        self.dZ1 = self.da1 * self.sigmoid_partial(self.a1) #dE/dZ1 = dE/da1 * da1/dZ1\n",
    "        \n",
    "        #Delta dos pesos do output layer\n",
    "        \n",
    "        self.dEdW2 = self.alfa * (self.a1.T.dot(self.dZ2)) #dE/dW2 = dE/dZ2 * dZ2/dW2 (a1)\n",
    "        self.dEdBw2 = np.sum(self.alfa * self.dZ2, axis = 0)\n",
    "    \n",
    "        \n",
    "        #Delta pesos da hiden layer\n",
    "        \n",
    "        self.dEdW1 = self.alfa * (self.X.T.dot(self.dZ1)) #dE/dW1 = dE/dZ1 * dZ1/dW1 (X)\n",
    "        self.dEdBw1 = np.sum(self.alfa * self.dZ1, axis=0)\n",
    "        \n",
    "        #Pesos camada de saída\n",
    "        \n",
    "        self.w2 += self.dEdW2\n",
    "        self.bw2 += self.dEdBw2\n",
    "        \n",
    "        #Pesos hidden layer\n",
    "        \n",
    "        self.w1 += self.dEdW1\n",
    "        self.bw1 += self.dEdBw1\n",
    "        \n",
    "    def train(self, X_va, y_va):\n",
    "        epoch = 0 \n",
    "        self.lsm = []\n",
    "        erro_total = 1\n",
    "        self.acc_va = []\n",
    "        self.acc_va.append(1)\n",
    "        while(epoch < self.epochs) or (erro_total < self.erro):\n",
    "            \n",
    "            \n",
    "            erro_total = 0\n",
    "            yhat = self.feed_foward(self.X)\n",
    "            self.retropropagation()\n",
    "            \n",
    "            erro_total += sum(0.5*((self.output - yhat)**2)) #Cálculo erro\n",
    "            self.lsm.append(erro_total)\n",
    "            \n",
    "            #Avaliando o modelo com o validation set\n",
    "            if epoch % 200 == 0:\n",
    "                \n",
    "                y_hat_va = self.predict(X_va)\n",
    "                y_hat_va = self.output_encode(y_hat_va)\n",
    "                cm_va = self.confusion_matrix(y_hat_va, y_va)\n",
    "                self.acc_va.extend(self.accuracy(cm_va).tolist())\n",
    "         \n",
    "                \n",
    "            epoch +=1\n",
    "        \n",
    "        tam = len(self.lsm)\n",
    "        X_grid = np.array(np.arange(0, tam))\n",
    "        plt.scatter(X_grid, self.lsm)\n",
    "        plt.show()\n",
    "        \n",
    "    def predict(self, X):\n",
    "       \n",
    "        #Propagando entrada pela rede\n",
    "            \n",
    "        z1 =  np.dot(X, self.w1) + self.bw1 #z1 = XW1 + b\n",
    "        a1 =  self.sigmoid_bipolar(z1)  #a1 = sigmoid(z1)\n",
    "        \n",
    "        #Cálculo saída da rede\n",
    "        \n",
    "        z2 = np.dot(a1, self.w2) + self.bw2 #z2 = ZW2 + Bw \n",
    "        yhat = self.sigmoid_bipolar(z2) #yhat = sigmoid(z2)\n",
    "        return yhat\n",
    "    \n",
    "    def confusion_matrix(self, x1_in, x2_in):\n",
    "        x1 = x1_in.copy()\n",
    "        x2 = x2_in.copy()\n",
    "        cm = np.zeros((2,2))\n",
    "        \n",
    "        if x1.shape != x2.shape:\n",
    "            return print(f'{x1.shape} != {x2.shape}')\n",
    "        else:\n",
    "            for v1, v2 in zip(x1, x2):\n",
    "                #print(f'{v1}, {v2}')\n",
    "                if v1 == v2 and v1 == 1:\n",
    "                    cm[[0], [0]] += 1\n",
    "                    \n",
    "                elif v1 == v2 and v1 == -1:\n",
    "                    cm[[1], [1]] += 1\n",
    "                    \n",
    "                elif v1 != v2 and v1 == 1:\n",
    "                    #print(f'FP = {v1}, {v2}')\n",
    "                    cm[[0], [1]] += 1\n",
    "                \n",
    "                elif v1 != v2 and v1 == -1:\n",
    "                    #print(f'FN = {v1}, {v2}')\n",
    "                    cm[[1], [0]] += 1\n",
    "            return cm\n",
    "\n",
    "    def accuracy(self, cm_in):\n",
    "        cm = cm_in.copy()\n",
    "        return 100 * (cm[[0], [0]] + cm[[1], [1]])/np.concatenate(cm).sum()\n",
    "    \n",
    "    def output_encode(self, x_in):\n",
    "        x = x_in.copy()\n",
    "        for i in range(len(x)):\n",
    "            x[i] = 1 if x[i] > 0 else -1\n",
    "        return np.array(x).reshape((len(x), 1)).astype(int)\n",
    "    \n",
    " \n",
    "\n",
    "def categorical_encode(x, var):\n",
    "    #x = x_in.copy()\n",
    "    for i in range(len(x)):\n",
    "        x[i] = 1 if x[i] == var else -1\n",
    "    return np.array(x).reshape((len(x), 1)).astype(int)\n",
    "\n",
    "def shuffle(a, b, random_seed):\n",
    "    np.random.seed(random_seed) #Mantém o mesmo seed em random para manter os arrays indexados\n",
    "    np.random.shuffle(a)\n",
    "    np.random.seed(random_seed)\n",
    "    np.random.shuffle(b)\n",
    "    \n",
    "def split_data(X, y, percentage, random_seed = 0):\n",
    "    shuffle(X, y, random_seed)\n",
    "    split_index = math.trunc((X.shape[0] * percentage)/100)\n",
    "    X_train = X[:split_index,:]\n",
    "    X_test = X[split_index:,:]\n",
    "    y_train = y[:split_index,:]\n",
    "    y_test = y[split_index:,:]\n",
    "    return X_train, X_test, y_train, y_test\n",
    "\n",
    "    \n",
    "\n"
   ]
  },
  {
   "cell_type": "code",
   "execution_count": 3,
   "metadata": {},
   "outputs": [
    {
     "data": {
      "image/png": "[encoded data removed]",
      "text/plain": [
       "<Figure size 432x288 with 1 Axes>"
      ]
     },
     "metadata": {
      "needs_background": "light"
     },
     "output_type": "display_data"
    }
   ],
   "source": [
    "dataset = pd.read_csv('ds_sonar_vs_mines_UCI.csv')\n",
    "X = dataset.iloc[:, :-1].values\n",
    "y = dataset.iloc[:, -1].values\n",
    "y = categorical_encode(y, 'R')\n",
    "\n",
    "X_train, X_test, y_train, y_test = split_data(X, y, 70, 42) \n",
    "X_test, X_validation, y_test, y_validation = split_data(X_test, y_test, 50, 42)\n",
    "\n",
    "nn = NeuralNetwork(X_train, y_train, 30 , 0.01, 30000)\n",
    "nn.train(X_validation, y_validation)\n",
    "y_pred = nn.predict(X_test)\n",
    "y_pred = nn.output_encode(y_pred)\n",
    "\n",
    "cm = nn.confusion_matrix(y_pred, y_test)\n",
    "\n",
    "accuracy = nn.accuracy(cm)\n"
   ]
  },
  {
   "cell_type": "code",
   "execution_count": 4,
   "metadata": {},
   "outputs": [
    {
     "data": {
      "text/plain": [
       "array([90.32258065])"
      ]
     },
     "execution_count": 4,
     "metadata": {},
     "output_type": "execute_result"
    }
   ],
   "source": [
    "accuracy"
   ]
  },
  {
   "cell_type": "code",
   "execution_count": 5,
   "metadata": {},
   "outputs": [
    {
     "data": {
      "text/plain": [
       "array([[11.,  0.],\n",
       "       [ 3., 17.]])"
      ]
     },
     "execution_count": 5,
     "metadata": {},
     "output_type": "execute_result"
    }
   ],
   "source": [
    "cm"
   ]
  },
  {
   "cell_type": "code",
   "execution_count": 6,
   "metadata": {},
   "outputs": [
    {
     "data": {
      "text/plain": [
       "array([[-0.86863956,  0.30305669, -0.28741696, ...,  0.39357838,\n",
       "        -0.06920307, -0.34457609],\n",
       "       [-0.69260069,  0.25806261,  0.20041924, ..., -0.44451873,\n",
       "        -0.64223742,  0.13124138],\n",
       "       [-0.8002441 , -0.20498577,  0.31565734, ..., -0.16844883,\n",
       "        -1.13953308, -0.36691253],\n",
       "       ...,\n",
       "       [-0.73023767, -0.35729801,  0.43253204, ...,  0.26024252,\n",
       "        -0.79135104,  0.35355613],\n",
       "       [-0.40339665,  0.03600782,  0.10971153, ..., -0.48958565,\n",
       "        -0.2182516 ,  0.2127678 ],\n",
       "       [-0.48652981, -0.52895583, -0.44962134, ..., -0.32440884,\n",
       "        -0.25441365, -0.09652308]])"
      ]
     },
     "execution_count": 6,
     "metadata": {},
     "output_type": "execute_result"
    }
   ],
   "source": [
    "nn.w1"
   ]
  },
  {
   "cell_type": "code",
   "execution_count": 7,
   "metadata": {},
   "outputs": [
    {
     "data": {
      "text/plain": [
       "array([[ 3.64053082e+00],\n",
       "       [ 1.06521387e+00],\n",
       "       [ 7.53320812e-01],\n",
       "       [-1.74178515e+00],\n",
       "       [-2.42031768e-01],\n",
       "       [-1.11386247e+00],\n",
       "       [ 1.38422094e+00],\n",
       "       [ 3.68451397e-01],\n",
       "       [ 1.71626889e+00],\n",
       "       [ 4.05575295e+00],\n",
       "       [-6.11826901e-01],\n",
       "       [ 1.03501050e+00],\n",
       "       [ 2.87313608e-01],\n",
       "       [-1.71363946e+00],\n",
       "       [-1.37530560e+00],\n",
       "       [-4.79909114e-02],\n",
       "       [ 7.41153377e-01],\n",
       "       [ 5.27145132e+00],\n",
       "       [ 7.88765427e-01],\n",
       "       [-8.53284861e-03],\n",
       "       [ 2.52056683e-01],\n",
       "       [ 3.72576505e+00],\n",
       "       [ 9.89357996e-01],\n",
       "       [ 1.19266845e+00],\n",
       "       [-6.71958544e+00],\n",
       "       [-1.91078535e+00],\n",
       "       [ 2.03212491e-04],\n",
       "       [ 7.35216245e-01],\n",
       "       [ 8.65056825e+00],\n",
       "       [ 6.09777684e-01]])"
      ]
     },
     "execution_count": 7,
     "metadata": {},
     "output_type": "execute_result"
    }
   ],
   "source": [
    "nn.w2"
   ]
  },
  {
   "cell_type": "code",
   "execution_count": null,
   "metadata": {},
   "outputs": [],
   "source": []
  }
 ],
 "metadata": {
  "kernelspec": {
   "display_name": "Python 3.7.4 64-bit ('base': conda)",
   "language": "python",
   "name": "python37464bitbasecondaed6d82471253478f90c809319e8d2c1d"
  },
  "language_info": {
   "codemirror_mode": {
    "name": "ipython",
    "version": 3
   },
   "file_extension": ".py",
   "mimetype": "text/x-python",
   "name": "python",
   "nbconvert_exporter": "python",
   "pygments_lexer": "ipython3",
   "version": "3.8.3"
  }
 },
 "nbformat": 4,
 "nbformat_minor": 4
}
